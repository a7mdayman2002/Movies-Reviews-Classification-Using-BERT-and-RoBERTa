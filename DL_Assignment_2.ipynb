{
  "cells": [
    {
      "cell_type": "markdown",
      "metadata": {
        "id": "jBWm3y3720hZ"
      },
      "source": [
        "# **Libraries**"
      ]
    },
    {
      "cell_type": "code",
      "execution_count": null,
      "metadata": {
        "id": "_69uwbASmTEP"
      },
      "outputs": [],
      "source": [
        "#libraries\n",
        "import numpy as np\n",
        "import pandas as pd\n",
        "import matplotlib.pyplot as plt\n",
        "\n",
        "#tensorflow imports\n",
        "import tensorflow as tf\n",
        "\n",
        "#NLP lbraries\n",
        "import nltk\n",
        "from nltk.corpus import stopwords\n",
        "from nltk.stem import WordNetLemmatizer\n",
        "\n",
        "#sklearn imports\n",
        "from sklearn.model_selection import train_test_split\n",
        "\n",
        "#preprocessing imports\n",
        "import string"
      ]
    },
    {
      "cell_type": "code",
      "execution_count": null,
      "metadata": {
        "id": "OiI4bk9N5XB6",
        "colab": {
          "base_uri": "https://localhost:8080/"
        },
        "outputId": "b2cdc541-2fdf-491f-f03b-86e4b9e467d0"
      },
      "outputs": [
        {
          "output_type": "stream",
          "name": "stderr",
          "text": [
            "[nltk_data] Downloading package stopwords to /root/nltk_data...\n",
            "[nltk_data]   Unzipping corpora/stopwords.zip.\n",
            "[nltk_data] Downloading package wordnet to /root/nltk_data...\n",
            "[nltk_data] Downloading package omw-1.4 to /root/nltk_data...\n"
          ]
        },
        {
          "output_type": "execute_result",
          "data": {
            "text/plain": [
              "True"
            ]
          },
          "metadata": {},
          "execution_count": 2
        }
      ],
      "source": [
        "# download data to help us in preprocessing\n",
        "nltk.download('stopwords')\n",
        "nltk.download('wordnet')\n",
        "nltk.download('omw-1.4')"
      ]
    },
    {
      "cell_type": "markdown",
      "metadata": {
        "id": "pu4bRAHOqDnG"
      },
      "source": [
        "# Reading data"
      ]
    },
    {
      "cell_type": "code",
      "execution_count": null,
      "metadata": {
        "id": "r_pSHTtbYt1C",
        "colab": {
          "base_uri": "https://localhost:8080/"
        },
        "outputId": "8671610d-f941-41af-c8bc-b58941a2d787"
      },
      "outputs": [
        {
          "output_type": "stream",
          "name": "stdout",
          "text": [
            "Mounted at /content/drive\n"
          ]
        }
      ],
      "source": [
        "# Connect to google drive\n",
        "from google.colab import drive\n",
        "drive.mount('/content/drive')"
      ]
    },
    {
      "cell_type": "code",
      "source": [
        "!gdown 'https://drive.google.com/drive/u/5/my-drive'"
      ],
      "metadata": {
        "id": "Mjb4TsVG9oCI",
        "colab": {
          "base_uri": "https://localhost:8080/"
        },
        "outputId": "c498dcaf-4515-4dcd-95be-598b3879f03f"
      },
      "execution_count": null,
      "outputs": [
        {
          "output_type": "stream",
          "name": "stdout",
          "text": [
            "/usr/local/lib/python3.8/dist-packages/gdown/parse_url.py:35: UserWarning: You specified a Google Drive link that is not the correct link to download a file. You might want to try `--fuzzy` option or the following url: https://drive.google.com/uc?id=None\n",
            "  warnings.warn(\n",
            "Downloading...\n",
            "From: https://drive.google.com/drive/u/5/my-drive\n",
            "To: /content/my-drive\n",
            "568kB [00:00, 39.1MB/s]\n"
          ]
        }
      ]
    },
    {
      "cell_type": "code",
      "execution_count": null,
      "metadata": {
        "id": "DCs0T-8Bs8uZ",
        "colab": {
          "base_uri": "https://localhost:8080/"
        },
        "outputId": "19b3bd07-e0a4-4895-ccc7-4d7f31ec6ba0"
      },
      "outputs": [
        {
          "output_type": "stream",
          "name": "stdout",
          "text": [
            "Archive:  /content/drive/MyDrive/Bert/Movie_Reviews.zip\n",
            "  inflating: Movie_Reviews.csv       \n"
          ]
        }
      ],
      "source": [
        "!unzip '/content/drive/MyDrive/Bert/Movie_Reviews.zip' "
      ]
    },
    {
      "cell_type": "code",
      "execution_count": null,
      "metadata": {
        "id": "0e0ryO6ImuFU"
      },
      "outputs": [],
      "source": [
        "# Read dataset as csv from drive\n",
        "data='/content/Movie_Reviews.csv'"
      ]
    },
    {
      "cell_type": "code",
      "execution_count": null,
      "metadata": {
        "id": "OAoAhKxlmZJj"
      },
      "outputs": [],
      "source": [
        "# Read csv file from pandas library\n",
        "data = pd.read_csv(data,  header=None, names=['Review', 'Sentiment'])\n",
        "data = data.iloc[1:]"
      ]
    },
    {
      "cell_type": "code",
      "execution_count": null,
      "metadata": {
        "id": "KE_PFPknoAR_",
        "colab": {
          "base_uri": "https://localhost:8080/"
        },
        "outputId": "996423b1-f780-4b67-b2d5-5ae4573fac47"
      },
      "outputs": [
        {
          "output_type": "execute_result",
          "data": {
            "text/plain": [
              "(50000, 2)"
            ]
          },
          "metadata": {},
          "execution_count": 8
        }
      ],
      "source": [
        "# Print the shape of data\n",
        "data.shape"
      ]
    },
    {
      "cell_type": "code",
      "execution_count": null,
      "metadata": {
        "id": "cJuzjbpqrjBc",
        "colab": {
          "base_uri": "https://localhost:8080/"
        },
        "outputId": "f63c2033-f3f8-4f54-8ebc-afc957cec9a0"
      },
      "outputs": [
        {
          "output_type": "execute_result",
          "data": {
            "text/plain": [
              "                                                  Review Sentiment\n",
              "28139  I am very sorry that this charming and whimsic...  positive\n",
              "32524  I dug out from my garage some old musicals and...  positive\n",
              "45123  This is one of my favorite series, all categor...  positive\n",
              "24776  Sorry this movie was a bad made for TV movie. ...  negative\n",
              "14965  I am astounded at the positive reviews for thi...  negative"
            ],
            "text/html": [
              "\n",
              "  <div id=\"df-0901a033-383f-49c6-a7b3-64e461734111\">\n",
              "    <div class=\"colab-df-container\">\n",
              "      <div>\n",
              "<style scoped>\n",
              "    .dataframe tbody tr th:only-of-type {\n",
              "        vertical-align: middle;\n",
              "    }\n",
              "\n",
              "    .dataframe tbody tr th {\n",
              "        vertical-align: top;\n",
              "    }\n",
              "\n",
              "    .dataframe thead th {\n",
              "        text-align: right;\n",
              "    }\n",
              "</style>\n",
              "<table border=\"1\" class=\"dataframe\">\n",
              "  <thead>\n",
              "    <tr style=\"text-align: right;\">\n",
              "      <th></th>\n",
              "      <th>Review</th>\n",
              "      <th>Sentiment</th>\n",
              "    </tr>\n",
              "  </thead>\n",
              "  <tbody>\n",
              "    <tr>\n",
              "      <th>28139</th>\n",
              "      <td>I am very sorry that this charming and whimsic...</td>\n",
              "      <td>positive</td>\n",
              "    </tr>\n",
              "    <tr>\n",
              "      <th>32524</th>\n",
              "      <td>I dug out from my garage some old musicals and...</td>\n",
              "      <td>positive</td>\n",
              "    </tr>\n",
              "    <tr>\n",
              "      <th>45123</th>\n",
              "      <td>This is one of my favorite series, all categor...</td>\n",
              "      <td>positive</td>\n",
              "    </tr>\n",
              "    <tr>\n",
              "      <th>24776</th>\n",
              "      <td>Sorry this movie was a bad made for TV movie. ...</td>\n",
              "      <td>negative</td>\n",
              "    </tr>\n",
              "    <tr>\n",
              "      <th>14965</th>\n",
              "      <td>I am astounded at the positive reviews for thi...</td>\n",
              "      <td>negative</td>\n",
              "    </tr>\n",
              "  </tbody>\n",
              "</table>\n",
              "</div>\n",
              "      <button class=\"colab-df-convert\" onclick=\"convertToInteractive('df-0901a033-383f-49c6-a7b3-64e461734111')\"\n",
              "              title=\"Convert this dataframe to an interactive table.\"\n",
              "              style=\"display:none;\">\n",
              "        \n",
              "  <svg xmlns=\"http://www.w3.org/2000/svg\" height=\"24px\"viewBox=\"0 0 24 24\"\n",
              "       width=\"24px\">\n",
              "    <path d=\"M0 0h24v24H0V0z\" fill=\"none\"/>\n",
              "    <path d=\"M18.56 5.44l.94 2.06.94-2.06 2.06-.94-2.06-.94-.94-2.06-.94 2.06-2.06.94zm-11 1L8.5 8.5l.94-2.06 2.06-.94-2.06-.94L8.5 2.5l-.94 2.06-2.06.94zm10 10l.94 2.06.94-2.06 2.06-.94-2.06-.94-.94-2.06-.94 2.06-2.06.94z\"/><path d=\"M17.41 7.96l-1.37-1.37c-.4-.4-.92-.59-1.43-.59-.52 0-1.04.2-1.43.59L10.3 9.45l-7.72 7.72c-.78.78-.78 2.05 0 2.83L4 21.41c.39.39.9.59 1.41.59.51 0 1.02-.2 1.41-.59l7.78-7.78 2.81-2.81c.8-.78.8-2.07 0-2.86zM5.41 20L4 18.59l7.72-7.72 1.47 1.35L5.41 20z\"/>\n",
              "  </svg>\n",
              "      </button>\n",
              "      \n",
              "  <style>\n",
              "    .colab-df-container {\n",
              "      display:flex;\n",
              "      flex-wrap:wrap;\n",
              "      gap: 12px;\n",
              "    }\n",
              "\n",
              "    .colab-df-convert {\n",
              "      background-color: #E8F0FE;\n",
              "      border: none;\n",
              "      border-radius: 50%;\n",
              "      cursor: pointer;\n",
              "      display: none;\n",
              "      fill: #1967D2;\n",
              "      height: 32px;\n",
              "      padding: 0 0 0 0;\n",
              "      width: 32px;\n",
              "    }\n",
              "\n",
              "    .colab-df-convert:hover {\n",
              "      background-color: #E2EBFA;\n",
              "      box-shadow: 0px 1px 2px rgba(60, 64, 67, 0.3), 0px 1px 3px 1px rgba(60, 64, 67, 0.15);\n",
              "      fill: #174EA6;\n",
              "    }\n",
              "\n",
              "    [theme=dark] .colab-df-convert {\n",
              "      background-color: #3B4455;\n",
              "      fill: #D2E3FC;\n",
              "    }\n",
              "\n",
              "    [theme=dark] .colab-df-convert:hover {\n",
              "      background-color: #434B5C;\n",
              "      box-shadow: 0px 1px 3px 1px rgba(0, 0, 0, 0.15);\n",
              "      filter: drop-shadow(0px 1px 2px rgba(0, 0, 0, 0.3));\n",
              "      fill: #FFFFFF;\n",
              "    }\n",
              "  </style>\n",
              "\n",
              "      <script>\n",
              "        const buttonEl =\n",
              "          document.querySelector('#df-0901a033-383f-49c6-a7b3-64e461734111 button.colab-df-convert');\n",
              "        buttonEl.style.display =\n",
              "          google.colab.kernel.accessAllowed ? 'block' : 'none';\n",
              "\n",
              "        async function convertToInteractive(key) {\n",
              "          const element = document.querySelector('#df-0901a033-383f-49c6-a7b3-64e461734111');\n",
              "          const dataTable =\n",
              "            await google.colab.kernel.invokeFunction('convertToInteractive',\n",
              "                                                     [key], {});\n",
              "          if (!dataTable) return;\n",
              "\n",
              "          const docLinkHtml = 'Like what you see? Visit the ' +\n",
              "            '<a target=\"_blank\" href=https://colab.research.google.com/notebooks/data_table.ipynb>data table notebook</a>'\n",
              "            + ' to learn more about interactive tables.';\n",
              "          element.innerHTML = '';\n",
              "          dataTable['output_type'] = 'display_data';\n",
              "          await google.colab.output.renderOutput(dataTable, element);\n",
              "          const docLink = document.createElement('div');\n",
              "          docLink.innerHTML = docLinkHtml;\n",
              "          element.appendChild(docLink);\n",
              "        }\n",
              "      </script>\n",
              "    </div>\n",
              "  </div>\n",
              "  "
            ]
          },
          "metadata": {},
          "execution_count": 9
        }
      ],
      "source": [
        "# Print 5 samples of data\n",
        "data.sample(5)"
      ]
    },
    {
      "cell_type": "code",
      "execution_count": null,
      "metadata": {
        "id": "jPkf-1hPrjtS",
        "colab": {
          "base_uri": "https://localhost:8080/"
        },
        "outputId": "502e98df-a1f4-4a79-810c-d686a0402c9a"
      },
      "outputs": [
        {
          "output_type": "execute_result",
          "data": {
            "text/plain": [
              "                                              Review Sentiment\n",
              "1  One of the other reviewers has mentioned that ...  positive\n",
              "2  A wonderful little production. <br /><br />The...  positive\n",
              "3  I thought this was a wonderful way to spend ti...  positive\n",
              "4  Basically there's a family where a little boy ...  negative\n",
              "5  Petter Mattei's \"Love in the Time of Money\" is...  positive"
            ],
            "text/html": [
              "\n",
              "  <div id=\"df-c4afd35d-0538-41b0-9531-ed4020f1ae39\">\n",
              "    <div class=\"colab-df-container\">\n",
              "      <div>\n",
              "<style scoped>\n",
              "    .dataframe tbody tr th:only-of-type {\n",
              "        vertical-align: middle;\n",
              "    }\n",
              "\n",
              "    .dataframe tbody tr th {\n",
              "        vertical-align: top;\n",
              "    }\n",
              "\n",
              "    .dataframe thead th {\n",
              "        text-align: right;\n",
              "    }\n",
              "</style>\n",
              "<table border=\"1\" class=\"dataframe\">\n",
              "  <thead>\n",
              "    <tr style=\"text-align: right;\">\n",
              "      <th></th>\n",
              "      <th>Review</th>\n",
              "      <th>Sentiment</th>\n",
              "    </tr>\n",
              "  </thead>\n",
              "  <tbody>\n",
              "    <tr>\n",
              "      <th>1</th>\n",
              "      <td>One of the other reviewers has mentioned that ...</td>\n",
              "      <td>positive</td>\n",
              "    </tr>\n",
              "    <tr>\n",
              "      <th>2</th>\n",
              "      <td>A wonderful little production. &lt;br /&gt;&lt;br /&gt;The...</td>\n",
              "      <td>positive</td>\n",
              "    </tr>\n",
              "    <tr>\n",
              "      <th>3</th>\n",
              "      <td>I thought this was a wonderful way to spend ti...</td>\n",
              "      <td>positive</td>\n",
              "    </tr>\n",
              "    <tr>\n",
              "      <th>4</th>\n",
              "      <td>Basically there's a family where a little boy ...</td>\n",
              "      <td>negative</td>\n",
              "    </tr>\n",
              "    <tr>\n",
              "      <th>5</th>\n",
              "      <td>Petter Mattei's \"Love in the Time of Money\" is...</td>\n",
              "      <td>positive</td>\n",
              "    </tr>\n",
              "  </tbody>\n",
              "</table>\n",
              "</div>\n",
              "      <button class=\"colab-df-convert\" onclick=\"convertToInteractive('df-c4afd35d-0538-41b0-9531-ed4020f1ae39')\"\n",
              "              title=\"Convert this dataframe to an interactive table.\"\n",
              "              style=\"display:none;\">\n",
              "        \n",
              "  <svg xmlns=\"http://www.w3.org/2000/svg\" height=\"24px\"viewBox=\"0 0 24 24\"\n",
              "       width=\"24px\">\n",
              "    <path d=\"M0 0h24v24H0V0z\" fill=\"none\"/>\n",
              "    <path d=\"M18.56 5.44l.94 2.06.94-2.06 2.06-.94-2.06-.94-.94-2.06-.94 2.06-2.06.94zm-11 1L8.5 8.5l.94-2.06 2.06-.94-2.06-.94L8.5 2.5l-.94 2.06-2.06.94zm10 10l.94 2.06.94-2.06 2.06-.94-2.06-.94-.94-2.06-.94 2.06-2.06.94z\"/><path d=\"M17.41 7.96l-1.37-1.37c-.4-.4-.92-.59-1.43-.59-.52 0-1.04.2-1.43.59L10.3 9.45l-7.72 7.72c-.78.78-.78 2.05 0 2.83L4 21.41c.39.39.9.59 1.41.59.51 0 1.02-.2 1.41-.59l7.78-7.78 2.81-2.81c.8-.78.8-2.07 0-2.86zM5.41 20L4 18.59l7.72-7.72 1.47 1.35L5.41 20z\"/>\n",
              "  </svg>\n",
              "      </button>\n",
              "      \n",
              "  <style>\n",
              "    .colab-df-container {\n",
              "      display:flex;\n",
              "      flex-wrap:wrap;\n",
              "      gap: 12px;\n",
              "    }\n",
              "\n",
              "    .colab-df-convert {\n",
              "      background-color: #E8F0FE;\n",
              "      border: none;\n",
              "      border-radius: 50%;\n",
              "      cursor: pointer;\n",
              "      display: none;\n",
              "      fill: #1967D2;\n",
              "      height: 32px;\n",
              "      padding: 0 0 0 0;\n",
              "      width: 32px;\n",
              "    }\n",
              "\n",
              "    .colab-df-convert:hover {\n",
              "      background-color: #E2EBFA;\n",
              "      box-shadow: 0px 1px 2px rgba(60, 64, 67, 0.3), 0px 1px 3px 1px rgba(60, 64, 67, 0.15);\n",
              "      fill: #174EA6;\n",
              "    }\n",
              "\n",
              "    [theme=dark] .colab-df-convert {\n",
              "      background-color: #3B4455;\n",
              "      fill: #D2E3FC;\n",
              "    }\n",
              "\n",
              "    [theme=dark] .colab-df-convert:hover {\n",
              "      background-color: #434B5C;\n",
              "      box-shadow: 0px 1px 3px 1px rgba(0, 0, 0, 0.15);\n",
              "      filter: drop-shadow(0px 1px 2px rgba(0, 0, 0, 0.3));\n",
              "      fill: #FFFFFF;\n",
              "    }\n",
              "  </style>\n",
              "\n",
              "      <script>\n",
              "        const buttonEl =\n",
              "          document.querySelector('#df-c4afd35d-0538-41b0-9531-ed4020f1ae39 button.colab-df-convert');\n",
              "        buttonEl.style.display =\n",
              "          google.colab.kernel.accessAllowed ? 'block' : 'none';\n",
              "\n",
              "        async function convertToInteractive(key) {\n",
              "          const element = document.querySelector('#df-c4afd35d-0538-41b0-9531-ed4020f1ae39');\n",
              "          const dataTable =\n",
              "            await google.colab.kernel.invokeFunction('convertToInteractive',\n",
              "                                                     [key], {});\n",
              "          if (!dataTable) return;\n",
              "\n",
              "          const docLinkHtml = 'Like what you see? Visit the ' +\n",
              "            '<a target=\"_blank\" href=https://colab.research.google.com/notebooks/data_table.ipynb>data table notebook</a>'\n",
              "            + ' to learn more about interactive tables.';\n",
              "          element.innerHTML = '';\n",
              "          dataTable['output_type'] = 'display_data';\n",
              "          await google.colab.output.renderOutput(dataTable, element);\n",
              "          const docLink = document.createElement('div');\n",
              "          docLink.innerHTML = docLinkHtml;\n",
              "          element.appendChild(docLink);\n",
              "        }\n",
              "      </script>\n",
              "    </div>\n",
              "  </div>\n",
              "  "
            ]
          },
          "metadata": {},
          "execution_count": 10
        }
      ],
      "source": [
        "# Print first 5 rows of data\n",
        "data.head(5)"
      ]
    },
    {
      "cell_type": "markdown",
      "metadata": {
        "id": "5pqIFkRDp1Ai"
      },
      "source": [
        "# Preprocessing"
      ]
    },
    {
      "cell_type": "code",
      "execution_count": null,
      "metadata": {
        "id": "PJaKUpO_rdhJ",
        "colab": {
          "base_uri": "https://localhost:8080/"
        },
        "outputId": "a34bbb5d-0431-4237-9ace-41ee6dc876e5"
      },
      "outputs": [
        {
          "output_type": "execute_result",
          "data": {
            "text/plain": [
              "                                              Review Sentiment\n",
              "1  one of the other reviewers has mentioned that ...  positive\n",
              "2  a wonderful little production. <br /><br />the...  positive\n",
              "3  i thought this was a wonderful way to spend ti...  positive\n",
              "4  basically there's a family where a little boy ...  negative\n",
              "5  petter mattei's \"love in the time of money\" is...  positive"
            ],
            "text/html": [
              "\n",
              "  <div id=\"df-c80339d3-77bb-4d04-9a4d-dc3224baa664\">\n",
              "    <div class=\"colab-df-container\">\n",
              "      <div>\n",
              "<style scoped>\n",
              "    .dataframe tbody tr th:only-of-type {\n",
              "        vertical-align: middle;\n",
              "    }\n",
              "\n",
              "    .dataframe tbody tr th {\n",
              "        vertical-align: top;\n",
              "    }\n",
              "\n",
              "    .dataframe thead th {\n",
              "        text-align: right;\n",
              "    }\n",
              "</style>\n",
              "<table border=\"1\" class=\"dataframe\">\n",
              "  <thead>\n",
              "    <tr style=\"text-align: right;\">\n",
              "      <th></th>\n",
              "      <th>Review</th>\n",
              "      <th>Sentiment</th>\n",
              "    </tr>\n",
              "  </thead>\n",
              "  <tbody>\n",
              "    <tr>\n",
              "      <th>1</th>\n",
              "      <td>one of the other reviewers has mentioned that ...</td>\n",
              "      <td>positive</td>\n",
              "    </tr>\n",
              "    <tr>\n",
              "      <th>2</th>\n",
              "      <td>a wonderful little production. &lt;br /&gt;&lt;br /&gt;the...</td>\n",
              "      <td>positive</td>\n",
              "    </tr>\n",
              "    <tr>\n",
              "      <th>3</th>\n",
              "      <td>i thought this was a wonderful way to spend ti...</td>\n",
              "      <td>positive</td>\n",
              "    </tr>\n",
              "    <tr>\n",
              "      <th>4</th>\n",
              "      <td>basically there's a family where a little boy ...</td>\n",
              "      <td>negative</td>\n",
              "    </tr>\n",
              "    <tr>\n",
              "      <th>5</th>\n",
              "      <td>petter mattei's \"love in the time of money\" is...</td>\n",
              "      <td>positive</td>\n",
              "    </tr>\n",
              "  </tbody>\n",
              "</table>\n",
              "</div>\n",
              "      <button class=\"colab-df-convert\" onclick=\"convertToInteractive('df-c80339d3-77bb-4d04-9a4d-dc3224baa664')\"\n",
              "              title=\"Convert this dataframe to an interactive table.\"\n",
              "              style=\"display:none;\">\n",
              "        \n",
              "  <svg xmlns=\"http://www.w3.org/2000/svg\" height=\"24px\"viewBox=\"0 0 24 24\"\n",
              "       width=\"24px\">\n",
              "    <path d=\"M0 0h24v24H0V0z\" fill=\"none\"/>\n",
              "    <path d=\"M18.56 5.44l.94 2.06.94-2.06 2.06-.94-2.06-.94-.94-2.06-.94 2.06-2.06.94zm-11 1L8.5 8.5l.94-2.06 2.06-.94-2.06-.94L8.5 2.5l-.94 2.06-2.06.94zm10 10l.94 2.06.94-2.06 2.06-.94-2.06-.94-.94-2.06-.94 2.06-2.06.94z\"/><path d=\"M17.41 7.96l-1.37-1.37c-.4-.4-.92-.59-1.43-.59-.52 0-1.04.2-1.43.59L10.3 9.45l-7.72 7.72c-.78.78-.78 2.05 0 2.83L4 21.41c.39.39.9.59 1.41.59.51 0 1.02-.2 1.41-.59l7.78-7.78 2.81-2.81c.8-.78.8-2.07 0-2.86zM5.41 20L4 18.59l7.72-7.72 1.47 1.35L5.41 20z\"/>\n",
              "  </svg>\n",
              "      </button>\n",
              "      \n",
              "  <style>\n",
              "    .colab-df-container {\n",
              "      display:flex;\n",
              "      flex-wrap:wrap;\n",
              "      gap: 12px;\n",
              "    }\n",
              "\n",
              "    .colab-df-convert {\n",
              "      background-color: #E8F0FE;\n",
              "      border: none;\n",
              "      border-radius: 50%;\n",
              "      cursor: pointer;\n",
              "      display: none;\n",
              "      fill: #1967D2;\n",
              "      height: 32px;\n",
              "      padding: 0 0 0 0;\n",
              "      width: 32px;\n",
              "    }\n",
              "\n",
              "    .colab-df-convert:hover {\n",
              "      background-color: #E2EBFA;\n",
              "      box-shadow: 0px 1px 2px rgba(60, 64, 67, 0.3), 0px 1px 3px 1px rgba(60, 64, 67, 0.15);\n",
              "      fill: #174EA6;\n",
              "    }\n",
              "\n",
              "    [theme=dark] .colab-df-convert {\n",
              "      background-color: #3B4455;\n",
              "      fill: #D2E3FC;\n",
              "    }\n",
              "\n",
              "    [theme=dark] .colab-df-convert:hover {\n",
              "      background-color: #434B5C;\n",
              "      box-shadow: 0px 1px 3px 1px rgba(0, 0, 0, 0.15);\n",
              "      filter: drop-shadow(0px 1px 2px rgba(0, 0, 0, 0.3));\n",
              "      fill: #FFFFFF;\n",
              "    }\n",
              "  </style>\n",
              "\n",
              "      <script>\n",
              "        const buttonEl =\n",
              "          document.querySelector('#df-c80339d3-77bb-4d04-9a4d-dc3224baa664 button.colab-df-convert');\n",
              "        buttonEl.style.display =\n",
              "          google.colab.kernel.accessAllowed ? 'block' : 'none';\n",
              "\n",
              "        async function convertToInteractive(key) {\n",
              "          const element = document.querySelector('#df-c80339d3-77bb-4d04-9a4d-dc3224baa664');\n",
              "          const dataTable =\n",
              "            await google.colab.kernel.invokeFunction('convertToInteractive',\n",
              "                                                     [key], {});\n",
              "          if (!dataTable) return;\n",
              "\n",
              "          const docLinkHtml = 'Like what you see? Visit the ' +\n",
              "            '<a target=\"_blank\" href=https://colab.research.google.com/notebooks/data_table.ipynb>data table notebook</a>'\n",
              "            + ' to learn more about interactive tables.';\n",
              "          element.innerHTML = '';\n",
              "          dataTable['output_type'] = 'display_data';\n",
              "          await google.colab.output.renderOutput(dataTable, element);\n",
              "          const docLink = document.createElement('div');\n",
              "          docLink.innerHTML = docLinkHtml;\n",
              "          element.appendChild(docLink);\n",
              "        }\n",
              "      </script>\n",
              "    </div>\n",
              "  </div>\n",
              "  "
            ]
          },
          "metadata": {},
          "execution_count": 11
        }
      ],
      "source": [
        "# Lowercase all characters\n",
        "data['Review']=data['Review'].str.lower()\n",
        "data['Sentiment']=data['Sentiment'].str.lower()\n",
        "data.head(5)"
      ]
    },
    {
      "cell_type": "code",
      "execution_count": null,
      "metadata": {
        "id": "gLDDPWIP12Rv",
        "colab": {
          "base_uri": "https://localhost:8080/"
        },
        "outputId": "384595ee-68af-4638-fcd2-605257c467b2"
      },
      "outputs": [
        {
          "output_type": "execute_result",
          "data": {
            "text/plain": [
              "'!\"#$%&\\'()*+,-./:;<=>?@[\\\\]^_`{|}~'"
            ],
            "application/vnd.google.colaboratory.intrinsic+json": {
              "type": "string"
            }
          },
          "metadata": {},
          "execution_count": 12
        }
      ],
      "source": [
        "# punctuation which we want to remove it\n",
        "string.punctuation"
      ]
    },
    {
      "cell_type": "code",
      "execution_count": null,
      "metadata": {
        "id": "SUOFBOIgo_dM"
      },
      "outputs": [],
      "source": [
        "# function to remove punctuation\n",
        "def remove_punctuation(text):\n",
        "  txt_nonpunc = \"\".join([c for c in text if c not in string.punctuation])\n",
        "  return txt_nonpunc"
      ]
    },
    {
      "cell_type": "code",
      "execution_count": null,
      "metadata": {
        "id": "vIBk3srcsTIx",
        "outputId": "84bb6572-3d7d-4479-fc61-1dac6a27019f",
        "colab": {
          "base_uri": "https://localhost:8080/"
        }
      },
      "outputs": [
        {
          "data": {
            "text/html": [
              "\n",
              "  <div id=\"df-2340f0f3-cd2b-417b-a739-bbdc875b3554\">\n",
              "    <div class=\"colab-df-container\">\n",
              "      <div>\n",
              "<style scoped>\n",
              "    .dataframe tbody tr th:only-of-type {\n",
              "        vertical-align: middle;\n",
              "    }\n",
              "\n",
              "    .dataframe tbody tr th {\n",
              "        vertical-align: top;\n",
              "    }\n",
              "\n",
              "    .dataframe thead th {\n",
              "        text-align: right;\n",
              "    }\n",
              "</style>\n",
              "<table border=\"1\" class=\"dataframe\">\n",
              "  <thead>\n",
              "    <tr style=\"text-align: right;\">\n",
              "      <th></th>\n",
              "      <th>Review</th>\n",
              "      <th>Sentiment</th>\n",
              "    </tr>\n",
              "  </thead>\n",
              "  <tbody>\n",
              "    <tr>\n",
              "      <th>1</th>\n",
              "      <td>one of the other reviewers has mentioned that ...</td>\n",
              "      <td>positive</td>\n",
              "    </tr>\n",
              "    <tr>\n",
              "      <th>2</th>\n",
              "      <td>a wonderful little production br br the filmin...</td>\n",
              "      <td>positive</td>\n",
              "    </tr>\n",
              "    <tr>\n",
              "      <th>3</th>\n",
              "      <td>i thought this was a wonderful way to spend ti...</td>\n",
              "      <td>positive</td>\n",
              "    </tr>\n",
              "    <tr>\n",
              "      <th>4</th>\n",
              "      <td>basically theres a family where a little boy j...</td>\n",
              "      <td>negative</td>\n",
              "    </tr>\n",
              "    <tr>\n",
              "      <th>5</th>\n",
              "      <td>petter matteis love in the time of money is a ...</td>\n",
              "      <td>positive</td>\n",
              "    </tr>\n",
              "  </tbody>\n",
              "</table>\n",
              "</div>\n",
              "      <button class=\"colab-df-convert\" onclick=\"convertToInteractive('df-2340f0f3-cd2b-417b-a739-bbdc875b3554')\"\n",
              "              title=\"Convert this dataframe to an interactive table.\"\n",
              "              style=\"display:none;\">\n",
              "        \n",
              "  <svg xmlns=\"http://www.w3.org/2000/svg\" height=\"24px\"viewBox=\"0 0 24 24\"\n",
              "       width=\"24px\">\n",
              "    <path d=\"M0 0h24v24H0V0z\" fill=\"none\"/>\n",
              "    <path d=\"M18.56 5.44l.94 2.06.94-2.06 2.06-.94-2.06-.94-.94-2.06-.94 2.06-2.06.94zm-11 1L8.5 8.5l.94-2.06 2.06-.94-2.06-.94L8.5 2.5l-.94 2.06-2.06.94zm10 10l.94 2.06.94-2.06 2.06-.94-2.06-.94-.94-2.06-.94 2.06-2.06.94z\"/><path d=\"M17.41 7.96l-1.37-1.37c-.4-.4-.92-.59-1.43-.59-.52 0-1.04.2-1.43.59L10.3 9.45l-7.72 7.72c-.78.78-.78 2.05 0 2.83L4 21.41c.39.39.9.59 1.41.59.51 0 1.02-.2 1.41-.59l7.78-7.78 2.81-2.81c.8-.78.8-2.07 0-2.86zM5.41 20L4 18.59l7.72-7.72 1.47 1.35L5.41 20z\"/>\n",
              "  </svg>\n",
              "      </button>\n",
              "      \n",
              "  <style>\n",
              "    .colab-df-container {\n",
              "      display:flex;\n",
              "      flex-wrap:wrap;\n",
              "      gap: 12px;\n",
              "    }\n",
              "\n",
              "    .colab-df-convert {\n",
              "      background-color: #E8F0FE;\n",
              "      border: none;\n",
              "      border-radius: 50%;\n",
              "      cursor: pointer;\n",
              "      display: none;\n",
              "      fill: #1967D2;\n",
              "      height: 32px;\n",
              "      padding: 0 0 0 0;\n",
              "      width: 32px;\n",
              "    }\n",
              "\n",
              "    .colab-df-convert:hover {\n",
              "      background-color: #E2EBFA;\n",
              "      box-shadow: 0px 1px 2px rgba(60, 64, 67, 0.3), 0px 1px 3px 1px rgba(60, 64, 67, 0.15);\n",
              "      fill: #174EA6;\n",
              "    }\n",
              "\n",
              "    [theme=dark] .colab-df-convert {\n",
              "      background-color: #3B4455;\n",
              "      fill: #D2E3FC;\n",
              "    }\n",
              "\n",
              "    [theme=dark] .colab-df-convert:hover {\n",
              "      background-color: #434B5C;\n",
              "      box-shadow: 0px 1px 3px 1px rgba(0, 0, 0, 0.15);\n",
              "      filter: drop-shadow(0px 1px 2px rgba(0, 0, 0, 0.3));\n",
              "      fill: #FFFFFF;\n",
              "    }\n",
              "  </style>\n",
              "\n",
              "      <script>\n",
              "        const buttonEl =\n",
              "          document.querySelector('#df-2340f0f3-cd2b-417b-a739-bbdc875b3554 button.colab-df-convert');\n",
              "        buttonEl.style.display =\n",
              "          google.colab.kernel.accessAllowed ? 'block' : 'none';\n",
              "\n",
              "        async function convertToInteractive(key) {\n",
              "          const element = document.querySelector('#df-2340f0f3-cd2b-417b-a739-bbdc875b3554');\n",
              "          const dataTable =\n",
              "            await google.colab.kernel.invokeFunction('convertToInteractive',\n",
              "                                                     [key], {});\n",
              "          if (!dataTable) return;\n",
              "\n",
              "          const docLinkHtml = 'Like what you see? Visit the ' +\n",
              "            '<a target=\"_blank\" href=https://colab.research.google.com/notebooks/data_table.ipynb>data table notebook</a>'\n",
              "            + ' to learn more about interactive tables.';\n",
              "          element.innerHTML = '';\n",
              "          dataTable['output_type'] = 'display_data';\n",
              "          await google.colab.output.renderOutput(dataTable, element);\n",
              "          const docLink = document.createElement('div');\n",
              "          docLink.innerHTML = docLinkHtml;\n",
              "          element.appendChild(docLink);\n",
              "        }\n",
              "      </script>\n",
              "    </div>\n",
              "  </div>\n",
              "  "
            ],
            "text/plain": [
              "                                              Review Sentiment\n",
              "1  one of the other reviewers has mentioned that ...  positive\n",
              "2  a wonderful little production br br the filmin...  positive\n",
              "3  i thought this was a wonderful way to spend ti...  positive\n",
              "4  basically theres a family where a little boy j...  negative\n",
              "5  petter matteis love in the time of money is a ...  positive"
            ]
          },
          "execution_count": 14,
          "metadata": {},
          "output_type": "execute_result"
        }
      ],
      "source": [
        "# remove punctuation by using remove_punctuation function\n",
        "data['Review'] = data['Review'].apply(lambda x: remove_punctuation(x))\n",
        "data.head(5)"
      ]
    },
    {
      "cell_type": "code",
      "execution_count": null,
      "metadata": {
        "id": "S9uNneD8qR9b",
        "outputId": "3cae78d0-666b-47b1-a318-7cf98aa504cf",
        "colab": {
          "base_uri": "https://localhost:8080/"
        }
      },
      "outputs": [
        {
          "metadata": {
            "tags": null
          },
          "name": "stdout",
          "output_type": "stream",
          "text": [
            "179\n"
          ]
        },
        {
          "data": {
            "text/plain": [
              "['i',\n",
              " 'me',\n",
              " 'my',\n",
              " 'myself',\n",
              " 'we',\n",
              " 'our',\n",
              " 'ours',\n",
              " 'ourselves',\n",
              " 'you',\n",
              " \"you're\",\n",
              " \"you've\",\n",
              " \"you'll\",\n",
              " \"you'd\",\n",
              " 'your',\n",
              " 'yours',\n",
              " 'yourself',\n",
              " 'yourselves',\n",
              " 'he',\n",
              " 'him',\n",
              " 'his',\n",
              " 'himself',\n",
              " 'she',\n",
              " \"she's\",\n",
              " 'her',\n",
              " 'hers',\n",
              " 'herself',\n",
              " 'it',\n",
              " \"it's\",\n",
              " 'its',\n",
              " 'itself',\n",
              " 'they',\n",
              " 'them',\n",
              " 'their',\n",
              " 'theirs',\n",
              " 'themselves',\n",
              " 'what',\n",
              " 'which',\n",
              " 'who',\n",
              " 'whom',\n",
              " 'this',\n",
              " 'that',\n",
              " \"that'll\",\n",
              " 'these',\n",
              " 'those',\n",
              " 'am',\n",
              " 'is',\n",
              " 'are',\n",
              " 'was',\n",
              " 'were',\n",
              " 'be',\n",
              " 'been',\n",
              " 'being',\n",
              " 'have',\n",
              " 'has',\n",
              " 'had',\n",
              " 'having',\n",
              " 'do',\n",
              " 'does',\n",
              " 'did',\n",
              " 'doing',\n",
              " 'a',\n",
              " 'an',\n",
              " 'the',\n",
              " 'and',\n",
              " 'but',\n",
              " 'if',\n",
              " 'or',\n",
              " 'because',\n",
              " 'as',\n",
              " 'until',\n",
              " 'while',\n",
              " 'of',\n",
              " 'at',\n",
              " 'by',\n",
              " 'for',\n",
              " 'with',\n",
              " 'about',\n",
              " 'against',\n",
              " 'between',\n",
              " 'into',\n",
              " 'through',\n",
              " 'during',\n",
              " 'before',\n",
              " 'after',\n",
              " 'above',\n",
              " 'below',\n",
              " 'to',\n",
              " 'from',\n",
              " 'up',\n",
              " 'down',\n",
              " 'in',\n",
              " 'out',\n",
              " 'on',\n",
              " 'off',\n",
              " 'over',\n",
              " 'under',\n",
              " 'again',\n",
              " 'further',\n",
              " 'then',\n",
              " 'once',\n",
              " 'here',\n",
              " 'there',\n",
              " 'when',\n",
              " 'where',\n",
              " 'why',\n",
              " 'how',\n",
              " 'all',\n",
              " 'any',\n",
              " 'both',\n",
              " 'each',\n",
              " 'few',\n",
              " 'more',\n",
              " 'most',\n",
              " 'other',\n",
              " 'some',\n",
              " 'such',\n",
              " 'no',\n",
              " 'nor',\n",
              " 'not',\n",
              " 'only',\n",
              " 'own',\n",
              " 'same',\n",
              " 'so',\n",
              " 'than',\n",
              " 'too',\n",
              " 'very',\n",
              " 's',\n",
              " 't',\n",
              " 'can',\n",
              " 'will',\n",
              " 'just',\n",
              " 'don',\n",
              " \"don't\",\n",
              " 'should',\n",
              " \"should've\",\n",
              " 'now',\n",
              " 'd',\n",
              " 'll',\n",
              " 'm',\n",
              " 'o',\n",
              " 're',\n",
              " 've',\n",
              " 'y',\n",
              " 'ain',\n",
              " 'aren',\n",
              " \"aren't\",\n",
              " 'couldn',\n",
              " \"couldn't\",\n",
              " 'didn',\n",
              " \"didn't\",\n",
              " 'doesn',\n",
              " \"doesn't\",\n",
              " 'hadn',\n",
              " \"hadn't\",\n",
              " 'hasn',\n",
              " \"hasn't\",\n",
              " 'haven',\n",
              " \"haven't\",\n",
              " 'isn',\n",
              " \"isn't\",\n",
              " 'ma',\n",
              " 'mightn',\n",
              " \"mightn't\",\n",
              " 'mustn',\n",
              " \"mustn't\",\n",
              " 'needn',\n",
              " \"needn't\",\n",
              " 'shan',\n",
              " \"shan't\",\n",
              " 'shouldn',\n",
              " \"shouldn't\",\n",
              " 'wasn',\n",
              " \"wasn't\",\n",
              " 'weren',\n",
              " \"weren't\",\n",
              " 'won',\n",
              " \"won't\",\n",
              " 'wouldn',\n",
              " \"wouldn't\"]"
            ]
          },
          "execution_count": 15,
          "metadata": {},
          "output_type": "execute_result"
        }
      ],
      "source": [
        "# Stopwords we want to remove it\n",
        "stop_words = stopwords.words('english')\n",
        "print(len(stop_words))\n",
        "stop_words"
      ]
    },
    {
      "cell_type": "code",
      "execution_count": null,
      "metadata": {
        "id": "Vn9uxHVysi2o"
      },
      "outputs": [],
      "source": [
        "# function to remove stopwords\n",
        "stop_words = stopwords.words('english')\n",
        "def remove_stopwords(text):\n",
        "  return \" \".join([word for word in str(text).split() if word not in stop_words])"
      ]
    },
    {
      "cell_type": "code",
      "execution_count": null,
      "metadata": {
        "id": "0HblluppBsru"
      },
      "outputs": [],
      "source": [
        "data['Review'] = data['Review'].apply(lambda x: remove_stopwords(x))\n",
        "data.head(5)"
      ]
    },
    {
      "cell_type": "code",
      "execution_count": null,
      "metadata": {
        "id": "09YjuOKosR8i"
      },
      "outputs": [],
      "source": [
        "# try Lemmatization of two words (funny)\n",
        "lemmatizer=WordNetLemmatizer()\n",
        "print(lemmatizer.lemmatize(\"Saboteurs\"))\n",
        "print(lemmatizer.lemmatize(\"cars\"))"
      ]
    },
    {
      "cell_type": "code",
      "execution_count": null,
      "metadata": {
        "id": "lpZXuMlAqYwB"
      },
      "outputs": [],
      "source": [
        "# function to make Lemmatization of words\n",
        "lemmatizer = WordNetLemmatizer()\n",
        "def lemmatize(text):\n",
        "    return \" \".join([lemmatizer.lemmatize(w) for w in text.split(' ')])"
      ]
    },
    {
      "cell_type": "code",
      "execution_count": null,
      "metadata": {
        "id": "qocMWHmVsq6e"
      },
      "outputs": [],
      "source": [
        "# Lemmatization of words\n",
        "data['Review'] = data['Review'].apply(lambda x: lemmatize(x))\n",
        "data.head(5)"
      ]
    },
    {
      "cell_type": "code",
      "source": [
        "data.head(5)"
      ],
      "metadata": {
        "id": "r9kaaJfWBRR9"
      },
      "execution_count": null,
      "outputs": []
    },
    {
      "cell_type": "markdown",
      "metadata": {
        "id": "cjcvKaertA0M"
      },
      "source": [
        "# Spliting"
      ]
    },
    {
      "cell_type": "code",
      "execution_count": null,
      "metadata": {
        "id": "NMdQcyibsOz1"
      },
      "outputs": [],
      "source": [
        "# changing positive and negative into numeric values\n",
        "\n",
        "def cat2num(value):\n",
        "    if value=='positive': \n",
        "        return 1\n",
        "    else: \n",
        "        return 0\n",
        "    \n",
        "data['Sentiment']  =  data['Sentiment'].apply(cat2num)"
      ]
    },
    {
      "cell_type": "code",
      "source": [
        "data.head(5)"
      ],
      "metadata": {
        "id": "R7Jxsb55B7xx"
      },
      "execution_count": null,
      "outputs": []
    },
    {
      "cell_type": "code",
      "execution_count": null,
      "metadata": {
        "id": "SErFm6AR3sb9"
      },
      "outputs": [],
      "source": [
        "#split the data into training set 80% and test set 20% \n",
        "X_train, X_test, Y_train, Y_test = train_test_split(data['Review'],data['Sentiment'],train_size=0.8,test_size=0.2,random_state=42,shuffle=True)"
      ]
    },
    {
      "cell_type": "code",
      "execution_count": null,
      "metadata": {
        "id": "C-aqrQ_L3uYR"
      },
      "outputs": [],
      "source": [
        "#split the training data into 70% training and 10% validation\n",
        "valid_percentage = int(data.size/2 * 0.1)\n",
        "X_valid = X_train[:valid_percentage]\n",
        "X_train = X_train[valid_percentage:]\n",
        "Y_valid = Y_train[:valid_percentage]\n",
        "Y_train = Y_train[valid_percentage:] "
      ]
    },
    {
      "cell_type": "code",
      "execution_count": null,
      "metadata": {
        "id": "eZ_qmvtx_nbS"
      },
      "outputs": [],
      "source": [
        "# #split the data into training set 80% and test set 20% \n",
        "# train, test= train_test_split(data,train_size=0.8,test_size=0.2,random_state=42,shuffle=True)"
      ]
    },
    {
      "cell_type": "code",
      "execution_count": null,
      "metadata": {
        "id": "DLORgEHICoF-"
      },
      "outputs": [],
      "source": [
        "# #split the training data into 70% training and 10% validation\n",
        "# valid_percentage = int(data.shape[0]* 0.1)\n",
        "# valid = train[:valid_percentage]\n",
        "# train=train[valid_percentage:]"
      ]
    },
    {
      "cell_type": "markdown",
      "metadata": {
        "id": "hKd_o_gTKZpO"
      },
      "source": [
        "# BERT"
      ]
    },
    {
      "cell_type": "code",
      "execution_count": null,
      "metadata": {
        "id": "JbT6Lf7rIQQ9",
        "colab": {
          "base_uri": "https://localhost:8080/"
        },
        "outputId": "091bfa3a-cb1b-4c09-f9dd-80338748d78f"
      },
      "outputs": [
        {
          "output_type": "stream",
          "name": "stdout",
          "text": [
            "Looking in indexes: https://pypi.org/simple, https://us-python.pkg.dev/colab-wheels/public/simple/\n",
            "Collecting bert-for-tf2\n",
            "  Downloading bert-for-tf2-0.14.9.tar.gz (41 kB)\n",
            "\u001b[K     |████████████████████████████████| 41 kB 181 kB/s \n",
            "\u001b[?25hCollecting py-params>=0.9.6\n",
            "  Downloading py-params-0.10.2.tar.gz (7.4 kB)\n",
            "Collecting params-flow>=0.8.0\n",
            "  Downloading params-flow-0.8.2.tar.gz (22 kB)\n",
            "Requirement already satisfied: numpy in /usr/local/lib/python3.8/dist-packages (from params-flow>=0.8.0->bert-for-tf2) (1.21.6)\n",
            "Requirement already satisfied: tqdm in /usr/local/lib/python3.8/dist-packages (from params-flow>=0.8.0->bert-for-tf2) (4.64.1)\n",
            "Building wheels for collected packages: bert-for-tf2, params-flow, py-params\n",
            "  Building wheel for bert-for-tf2 (setup.py) ... \u001b[?25l\u001b[?25hdone\n",
            "  Created wheel for bert-for-tf2: filename=bert_for_tf2-0.14.9-py3-none-any.whl size=30534 sha256=015c9c6d3458d0fb1bd275dc5b3eda3bbded357f129da4709324db1ce5f4f6f5\n",
            "  Stored in directory: /root/.cache/pip/wheels/ab/a4/72/df07592cea3ae06b5e846f5e52262f8b16748e829ca354b7df\n",
            "  Building wheel for params-flow (setup.py) ... \u001b[?25l\u001b[?25hdone\n",
            "  Created wheel for params-flow: filename=params_flow-0.8.2-py3-none-any.whl size=19472 sha256=d0ffe7dad722b9167cab4f6289473b03cc682ef26b33288084216b318d6d4bdb\n",
            "  Stored in directory: /root/.cache/pip/wheels/c7/f3/85/b8cf1d8bfe55dc2ece0f1fcd4e91d6f8fc7b59ff3fd75329e1\n",
            "  Building wheel for py-params (setup.py) ... \u001b[?25l\u001b[?25hdone\n",
            "  Created wheel for py-params: filename=py_params-0.10.2-py3-none-any.whl size=7911 sha256=68bd5b9fa2dd5dcd01063cfe44b8f62d9a11dd709304685af0014aa7e74b83ad\n",
            "  Stored in directory: /root/.cache/pip/wheels/ac/26/e9/df16869ccbd4abf517f1ff3be9a2c7ee5c5980fc87eea04fb1\n",
            "Successfully built bert-for-tf2 params-flow py-params\n",
            "Installing collected packages: py-params, params-flow, bert-for-tf2\n",
            "Successfully installed bert-for-tf2-0.14.9 params-flow-0.8.2 py-params-0.10.2\n"
          ]
        }
      ],
      "source": [
        "# Install the required package\n",
        "!pip install bert-for-tf2"
      ]
    },
    {
      "cell_type": "code",
      "execution_count": null,
      "metadata": {
        "id": "8nP9MuFOITFF"
      },
      "outputs": [],
      "source": [
        "# Import modules\n",
        "import os\n",
        "import bert\n",
        "import numpy as np\n",
        "import pandas as pd\n",
        "import tensorflow as tf\n",
        "import tensorflow_hub as hub\n",
        "from tensorflow.keras.utils import to_categorical\n",
        "from tensorflow.keras.models import  Model\n",
        "from tensorflow.keras.layers import Input, Dense, Dropout\n",
        "from tensorflow.keras.optimizers import Adam\n",
        "from tensorflow.keras.callbacks import ModelCheckpoint, TensorBoard\n",
        "from tqdm import tqdm\n",
        "import matplotlib.pyplot as plt"
      ]
    },
    {
      "cell_type": "code",
      "execution_count": null,
      "metadata": {
        "colab": {
          "base_uri": "https://localhost:8080/"
        },
        "id": "E1BJ8mjJHtx2",
        "outputId": "1a3afc8b-1764-4929-897c-c99842396481"
      },
      "outputs": [
        {
          "output_type": "stream",
          "name": "stdout",
          "text": [
            "Vocab size: 30522\n",
            "['hello', 'tensor', '##flow', '!']\n"
          ]
        }
      ],
      "source": [
        "# https://www.tensorflow.org/official_models/fine_tuning_bert\n",
        "gs_folder_bert = \"gs://cloud-tpu-checkpoints/bert/v3/uncased_L-12_H-768_A-12\"\n",
        "tf.io.gfile.listdir(gs_folder_bert)\n",
        "tokenizer = bert.bert_tokenization.FullTokenizer(vocab_file = os.path.join(gs_folder_bert, \"vocab.txt\"), do_lower_case=True)\n",
        "print(\"Vocab size:\", len(tokenizer.vocab))\n",
        "tokens = tokenizer.tokenize(\"Hello TensorFlow!\")\n",
        "print(tokens)\n",
        "ids = tokenizer.convert_tokens_to_ids(tokens)"
      ]
    },
    {
      "cell_type": "code",
      "execution_count": null,
      "metadata": {
        "id": "4O1mzCpNIaCU"
      },
      "outputs": [],
      "source": [
        "def create_tonkenizer(bert_layer):\n",
        "    \"\"\"Instantiate Tokenizer with vocab\"\"\"\n",
        "    vocab_file = bert_layer.resolved_object.vocab_file.asset_path.numpy()\n",
        "    do_lower_case = bert_layer.resolved_object.do_lower_case.numpy() \n",
        "    tokenizer = bert.bert_tokenization.FullTokenizer(vocab_file, do_lower_case)\n",
        "    print(\"Vocab size:\", len(tokenizer.vocab))\n",
        "    return tokenizer"
      ]
    },
    {
      "cell_type": "code",
      "execution_count": null,
      "metadata": {
        "id": "wYz5avfbH8Vj"
      },
      "outputs": [],
      "source": [
        "def get_ids(tokens, tokenizer, MAX_SEQ_LEN):\n",
        "    \"\"\"Token ids from Tokenizer vocab\"\"\"\n",
        "    token_ids = tokenizer.convert_tokens_to_ids(tokens)\n",
        "    input_ids = token_ids + [0] * (MAX_SEQ_LEN - len(token_ids))\n",
        "    return input_ids"
      ]
    },
    {
      "cell_type": "code",
      "execution_count": null,
      "metadata": {
        "id": "qB3pg7hlIc2X"
      },
      "outputs": [],
      "source": [
        "def get_masks(tokens, MAX_SEQ_LEN):\n",
        "    \"\"\"Masks: 1 for real tokens and 0 for paddings\"\"\"\n",
        "    return [1] * len(tokens) + [0] * (MAX_SEQ_LEN - len(tokens))"
      ]
    },
    {
      "cell_type": "code",
      "execution_count": null,
      "metadata": {
        "id": "7KdThXRfIeqy"
      },
      "outputs": [],
      "source": [
        "def get_segments(tokens, MAX_SEQ_LEN):\n",
        "    \"\"\"Segments: 0 for the first sequence, 1 for the second\"\"\"  \n",
        "    segments = []\n",
        "    current_segment_id = 0\n",
        "    for token in tokens:\n",
        "        segments.append(current_segment_id)\n",
        "        if token == \"[SEP]\":\n",
        "            current_segment_id = 1\n",
        "    return segments + [0] * (MAX_SEQ_LEN - len(tokens))"
      ]
    },
    {
      "cell_type": "code",
      "execution_count": null,
      "metadata": {
        "id": "AGTSfPjlIgU6"
      },
      "outputs": [],
      "source": [
        "def create_single_input(sentence, tokenizer, max_len):\n",
        "    \"\"\"Create an input from a sentence\"\"\"\n",
        "    stokens = tokenizer.tokenize(sentence)\n",
        "    stokens = stokens[:max_len] \n",
        "    stokens = [\"[CLS]\"] + stokens + [\"[SEP]\"]\n",
        "    return get_ids(stokens, tokenizer, max_len+2), get_masks(stokens, max_len+2), get_segments(stokens, max_len+2)"
      ]
    },
    {
      "cell_type": "code",
      "execution_count": null,
      "metadata": {
        "id": "d_CZ2foTIiHj"
      },
      "outputs": [],
      "source": [
        "def convert_sentences_to_features(sentences, tokenizer, MAX_SEQ_LEN):\n",
        "    \"\"\"Convert sentences to features: input_ids, input_masks and input_segments\"\"\"\n",
        "    input_ids, input_masks, input_segments = [], [], []\n",
        "    for sentence in tqdm(sentences, position=0, leave=True):\n",
        "      ids, masks, segments = create_single_input(sentence, tokenizer, MAX_SEQ_LEN-2) # why -2 ? ans: reserved for [CLS] & [SEP]\n",
        "      input_ids.append(ids)\n",
        "      input_masks.append(masks)\n",
        "      input_segments.append(segments)\n",
        "    return [np.asarray(input_ids, dtype=np.int32), np.asarray(input_masks, dtype=np.int32), np.asarray(input_segments, dtype=np.int32)]"
      ]
    },
    {
      "cell_type": "code",
      "execution_count": null,
      "metadata": {
        "id": "qfP2xHzsIj_J"
      },
      "outputs": [],
      "source": [
        "def nlp_model(bert_base):\n",
        "    # Load the pre-trained BERT base model\n",
        "    bert_layer = hub.KerasLayer(handle=bert_base, trainable=False)  \n",
        "    # BERT layer three inputs: ids, masks and segments\n",
        "    input_ids = Input(shape=(MAX_SEQ_LEN,), dtype=tf.int32, name=\"input_ids\")           \n",
        "    input_masks = Input(shape=(MAX_SEQ_LEN,), dtype=tf.int32, name=\"input_masks\")       \n",
        "    input_segments = Input(shape=(MAX_SEQ_LEN,), dtype=tf.int32, name=\"segment_ids\")\n",
        "\n",
        "    inputs = [input_ids, input_masks, input_segments] # BERT inputs\n",
        "    pooled_output, sequence_output = bert_layer(inputs) # BERT outputs\n",
        "    x = Dense(units=768, activation='relu')(pooled_output)\n",
        "    x=Dropout(0.15)(x)\n",
        "    x = Dense(units=512, activation='relu')(x) # hidden layer\n",
        "    x=Dropout(0.15)(x) \n",
        "    x = Dense(units=256, activation='relu')(x) # hidden layer \n",
        "    x=Dropout(0.15)(x)\n",
        "    x = Dense(units=128, activation='relu')(x) # hidden layer \n",
        "    x=Dropout(0.15)(x)\n",
        "    x = Dense(units=64, activation='relu')(x) # hidden layer \n",
        "    x=Dropout(0.15)(x)\n",
        "    outputs = Dense(2, activation=\"softmax\")(x) # output layer\n",
        "    model = Model(inputs=inputs, outputs=outputs)\n",
        "    return model"
      ]
    },
    {
      "cell_type": "code",
      "source": [
        "# hyper-parameters\n",
        "BATCH_SIZE = 8\n",
        "EPOCHS = 10\n",
        "MAX_SEQ_LEN = 100"
      ],
      "metadata": {
        "id": "RHsBP7J5QEH-"
      },
      "execution_count": null,
      "outputs": []
    },
    {
      "cell_type": "code",
      "execution_count": null,
      "metadata": {
        "id": "pvvBMKwkIpgF"
      },
      "outputs": [],
      "source": [
        "# model construction (we construct model first inorder to use bert_layer's tokenizer)\n",
        "bert_base = \"https://tfhub.dev/tensorflow/bert_en_uncased_L-12_H-768_A-12/1\"\n"
      ]
    },
    {
      "cell_type": "code",
      "source": [
        "model = nlp_model(bert_base) \n",
        "\n",
        "# we would like to use bert tokenizer; therefore, chech model.summary() and find the index of bert_layer\n",
        "tokenizer = create_tonkenizer(model.layers[3])"
      ],
      "metadata": {
        "colab": {
          "base_uri": "https://localhost:8080/"
        },
        "id": "tPxYO4p-W5CT",
        "outputId": "c5ca1ed4-db55-4ee9-edc4-78707eae1e18"
      },
      "execution_count": null,
      "outputs": [
        {
          "output_type": "stream",
          "name": "stdout",
          "text": [
            "Vocab size: 30522\n"
          ]
        }
      ]
    },
    {
      "cell_type": "code",
      "source": [
        "for i in range(3):\n",
        "    model.layers[i].trainable = False"
      ],
      "metadata": {
        "id": "blT9pKA0-Ipv"
      },
      "execution_count": null,
      "outputs": []
    },
    {
      "cell_type": "code",
      "execution_count": null,
      "metadata": {
        "colab": {
          "base_uri": "https://localhost:8080/"
        },
        "id": "grltMz2wIvYP",
        "outputId": "779d819d-95e9-4e30-9039-b210e7e38702"
      },
      "outputs": [
        {
          "output_type": "stream",
          "name": "stderr",
          "text": [
            "100%|██████████| 35000/35000 [01:21<00:00, 428.06it/s]\n",
            "100%|██████████| 5000/5000 [00:11<00:00, 452.97it/s]\n",
            "100%|██████████| 10000/10000 [00:22<00:00, 452.16it/s]\n"
          ]
        }
      ],
      "source": [
        "# create training data and testing data\n",
        "x_train = convert_sentences_to_features(X_train, tokenizer, MAX_SEQ_LEN)\n",
        "x_valid = convert_sentences_to_features(X_valid, tokenizer, MAX_SEQ_LEN)\n",
        "x_test = convert_sentences_to_features(X_test, tokenizer, MAX_SEQ_LEN)"
      ]
    },
    {
      "cell_type": "code",
      "execution_count": null,
      "metadata": {
        "id": "5sP7_MTWI17l"
      },
      "outputs": [],
      "source": [
        "y_train = to_categorical(Y_train)\n",
        "y_valid = to_categorical(Y_valid)\n",
        "y_test = to_categorical(Y_test)"
      ]
    },
    {
      "cell_type": "code",
      "source": [
        "def scheduler(epoch, lr):\n",
        "     if epoch < 2:\n",
        "         return lr\n",
        "     else:\n",
        "         return lr * tf.math.exp(-0.5)"
      ],
      "metadata": {
        "id": "oL4ubVUYZJdh"
      },
      "execution_count": null,
      "outputs": []
    },
    {
      "cell_type": "code",
      "source": [
        "callback = tf.keras.callbacks.LearningRateScheduler(scheduler)"
      ],
      "metadata": {
        "id": "uL76duFWZHSz"
      },
      "execution_count": null,
      "outputs": []
    },
    {
      "cell_type": "code",
      "execution_count": null,
      "metadata": {
        "id": "pPqq61FnI3NQ"
      },
      "outputs": [],
      "source": [
        "# use adam optimizer to minimize the categorical_crossentropy loss\n",
        "optimizer = Adam(learning_rate=2e-05)\n",
        "\n",
        "model.compile(optimizer=optimizer, loss=tf.keras.losses.BinaryCrossentropy(from_logits=True), metrics=['accuracy'])\n"
      ]
    },
    {
      "cell_type": "code",
      "source": [
        "#  model.load_weights('/content/drive/MyDrive/Bert/Dense/')"
      ],
      "metadata": {
        "id": "M0sGh7rgLSxF",
        "colab": {
          "base_uri": "https://localhost:8080/"
        },
        "outputId": "68b0cb12-6378-44df-b24f-bf3cf817f28a"
      },
      "execution_count": null,
      "outputs": [
        {
          "output_type": "execute_result",
          "data": {
            "text/plain": [
              "<tensorflow.python.training.tracking.util.CheckpointLoadStatus at 0x7f4763400f40>"
            ]
          },
          "metadata": {},
          "execution_count": 58
        }
      ]
    },
    {
      "cell_type": "code",
      "execution_count": null,
      "metadata": {
        "id": "ERHgOep6KGXX",
        "colab": {
          "base_uri": "https://localhost:8080/"
        },
        "outputId": "8b3b8e5c-4248-4067-b294-721197a5a416"
      },
      "outputs": [
        {
          "output_type": "stream",
          "name": "stdout",
          "text": [
            "Epoch 1/10\n",
            "4375/4375 [==============================] - 292s 67ms/step - loss: 0.4941 - accuracy: 0.7592 - val_loss: 0.4928 - val_accuracy: 0.7582\n",
            "Epoch 2/10\n",
            "4375/4375 [==============================] - 298s 68ms/step - loss: 0.4916 - accuracy: 0.7627 - val_loss: 0.4787 - val_accuracy: 0.7730\n",
            "Epoch 3/10\n",
            "4375/4375 [==============================] - 291s 67ms/step - loss: 0.4892 - accuracy: 0.7623 - val_loss: 0.4799 - val_accuracy: 0.7736\n",
            "Epoch 4/10\n",
            "4375/4375 [==============================] - 298s 68ms/step - loss: 0.4881 - accuracy: 0.7617 - val_loss: 0.4796 - val_accuracy: 0.7726\n",
            "Epoch 5/10\n",
            "4375/4375 [==============================] - 291s 67ms/step - loss: 0.4869 - accuracy: 0.7640 - val_loss: 0.4778 - val_accuracy: 0.7714\n",
            "Epoch 6/10\n",
            "4375/4375 [==============================] - 291s 67ms/step - loss: 0.4850 - accuracy: 0.7629 - val_loss: 0.4795 - val_accuracy: 0.7712\n",
            "Epoch 7/10\n",
            "4375/4375 [==============================] - 298s 68ms/step - loss: 0.4829 - accuracy: 0.7659 - val_loss: 0.4795 - val_accuracy: 0.7714\n",
            "Epoch 8/10\n",
            "4375/4375 [==============================] - 298s 68ms/step - loss: 0.4815 - accuracy: 0.7668 - val_loss: 0.4768 - val_accuracy: 0.7740\n",
            "Epoch 9/10\n",
            "4375/4375 [==============================] - 298s 68ms/step - loss: 0.4821 - accuracy: 0.7654 - val_loss: 0.4868 - val_accuracy: 0.7666\n",
            "Epoch 10/10\n",
            "4375/4375 [==============================] - 298s 68ms/step - loss: 0.4791 - accuracy: 0.7710 - val_loss: 0.4762 - val_accuracy: 0.7698\n"
          ]
        }
      ],
      "source": [
        "\n",
        "# fit the data to the model\n",
        "bert_history = model.fit(x_train, y_train, validation_data=(x_valid, y_valid), epochs=EPOCHS, batch_size=BATCH_SIZE, verbose=1)"
      ]
    },
    {
      "cell_type": "code",
      "execution_count": null,
      "metadata": {
        "id": "wsYJjohhLa8V"
      },
      "outputs": [],
      "source": [
        "# save the trained model\n",
        "model.save_weights('/content/drive/MyDrive/Bert/Dense/')"
      ]
    },
    {
      "cell_type": "code",
      "execution_count": null,
      "metadata": {
        "id": "0SoSRw6TV2wE",
        "colab": {
          "base_uri": "https://localhost:8080/",
          "height": 625
        },
        "outputId": "df420132-30bb-4454-904e-26b382ecb117"
      },
      "outputs": [
        {
          "output_type": "execute_result",
          "data": {
            "text/plain": [
              "<matplotlib.legend.Legend at 0x7f475c682760>"
            ]
          },
          "metadata": {},
          "execution_count": 88
        },
        {
          "output_type": "display_data",
          "data": {
            "text/plain": [
              "<Figure size 720x720 with 1 Axes>"
            ],
            "image/png": "[encoded data removed]"
          },
          "metadata": {
            "needs_background": "light"
          }
        }
      ],
      "source": [
        "plt.figure(figsize=(10, 10))\n",
        "plt.title('Accuracy')\n",
        "\n",
        "xaxis = np.arange(len(bert_history.history['accuracy']))\n",
        "plt.plot(xaxis, bert_history.history['accuracy'], label='Train set')\n",
        "plt.plot(xaxis, bert_history.history['val_accuracy'], label='Validation set')\n",
        "plt.legend()"
      ]
    },
    {
      "cell_type": "code",
      "source": [
        "plt.figure(figsize=(10, 10))\n",
        "plt.title('Loss')\n",
        "\n",
        "xaxis = np.arange(len(bert_history.history['loss']))\n",
        "plt.plot(xaxis, bert_history.history['loss'], label='Train set')\n",
        "plt.plot(xaxis, bert_history.history['val_loss'], label='Validation set')\n",
        "plt.legend()"
      ],
      "metadata": {
        "id": "eiJ4zITmfs1K",
        "colab": {
          "base_uri": "https://localhost:8080/",
          "height": 625
        },
        "outputId": "354cca03-432c-4f16-a125-ce44d8a2fb15"
      },
      "execution_count": null,
      "outputs": [
        {
          "output_type": "execute_result",
          "data": {
            "text/plain": [
              "<matplotlib.legend.Legend at 0x7f475efca430>"
            ]
          },
          "metadata": {},
          "execution_count": 89
        },
        {
          "output_type": "display_data",
          "data": {
            "text/plain": [
              "<Figure size 720x720 with 1 Axes>"
            ],
            "image/png": "[encoded data removed]"
          },
          "metadata": {
            "needs_background": "light"
          }
        }
      ]
    },
    {
      "cell_type": "code",
      "execution_count": null,
      "metadata": {
        "id": "FttvBYwxLXN8",
        "colab": {
          "base_uri": "https://localhost:8080/"
        },
        "outputId": "2fc3c6c5-44df-4798-cdf5-ba6e5b463c1c"
      },
      "outputs": [
        {
          "output_type": "stream",
          "name": "stdout",
          "text": [
            "313/313 [==============================] - 68s 213ms/step\n"
          ]
        }
      ],
      "source": [
        "# predict on test dataset\n",
        "from sklearn.metrics import classification_report\n",
        "y_pred = np.argmax(model.predict(x_test), axis=1)"
      ]
    },
    {
      "cell_type": "code",
      "source": [
        "ytest=np.array(Y_test)"
      ],
      "metadata": {
        "id": "ULzZQKcH4Z5-"
      },
      "execution_count": null,
      "outputs": []
    },
    {
      "cell_type": "code",
      "source": [
        "correct=0\n",
        "for i in range(len(y_pred)):\n",
        "  if y_pred[i]==ytest[i]:\n",
        "    correct+=1\n",
        "print(\"Model Prediction Accuracy is \",((correct)/len(y_pred))*100)"
      ],
      "metadata": {
        "id": "H_ExPC8V4IJb",
        "colab": {
          "base_uri": "https://localhost:8080/"
        },
        "outputId": "e397de28-3b24-4b1b-899a-aebfd2c91c77"
      },
      "execution_count": null,
      "outputs": [
        {
          "output_type": "stream",
          "name": "stdout",
          "text": [
            "Model Prediction Accuracy is  76.66\n"
          ]
        }
      ]
    },
    {
      "cell_type": "code",
      "execution_count": null,
      "metadata": {
        "id": "erfnu631MH9M",
        "colab": {
          "base_uri": "https://localhost:8080/"
        },
        "outputId": "eeb9f451-0c94-4d06-dd03-f0427d5a84de"
      },
      "outputs": [
        {
          "output_type": "stream",
          "name": "stdout",
          "text": [
            "              precision    recall  f1-score   support\n",
            "\n",
            "           0       0.74      0.81      0.77      4961\n",
            "           1       0.79      0.72      0.76      5039\n",
            "\n",
            "    accuracy                           0.77     10000\n",
            "   macro avg       0.77      0.77      0.77     10000\n",
            "weighted avg       0.77      0.77      0.77     10000\n",
            "\n"
          ]
        }
      ],
      "source": [
        "print(classification_report(np.argmax(y_test, axis=1), y_pred))"
      ]
    },
    {
      "cell_type": "markdown",
      "metadata": {
        "id": "K5tvzUo5K4YE"
      },
      "source": [
        "# Roberta"
      ]
    },
    {
      "cell_type": "code",
      "source": [
        "!pip install transformers"
      ],
      "metadata": {
        "id": "iptNPeXP7Jvi"
      },
      "execution_count": null,
      "outputs": []
    },
    {
      "cell_type": "code",
      "source": [
        "!pip install tokenizers"
      ],
      "metadata": {
        "id": "IKggx3LVfNWp"
      },
      "execution_count": null,
      "outputs": []
    },
    {
      "cell_type": "code",
      "source": [
        "import numpy as np\n",
        "import regex as re\n",
        "import pandas as pd\n",
        "import matplotlib.pyplot as plt\n",
        "import seaborn as sns\n",
        "import statistics\n",
        "import math\n",
        "import os\n",
        "\n",
        "from sklearn.model_selection import StratifiedKFold\n",
        "from sklearn.metrics import accuracy_score\n",
        "from sklearn.model_selection import train_test_split\n",
        "\n",
        "import tensorflow as tf\n",
        "import tensorflow.keras.backend as K\n",
        "import tokenizers\n",
        "from transformers import RobertaTokenizer, TFRobertaModel\n",
        "\n",
        "from collections import Counter\n",
        "\n",
        "import warnings\n",
        "warnings.filterwarnings(\"ignore\")"
      ],
      "metadata": {
        "id": "1UkKgLPXCuyw"
      },
      "execution_count": null,
      "outputs": []
    },
    {
      "cell_type": "code",
      "source": [
        "MODEL_NAME = 'roberta-base'\n",
        "MAX_LEN = 256\n",
        "ARTIFACTS_PATH = '../artifacts/'\n",
        "\n",
        "BATCH_SIZE = 8 \n",
        "EPOCHS = 5\n",
        "\n",
        "if not os.path.exists(ARTIFACTS_PATH):\n",
        "    os.makedirs(ARTIFACTS_PATH)"
      ],
      "metadata": {
        "id": "JRk3QVpRfy18"
      },
      "execution_count": null,
      "outputs": []
    },
    {
      "cell_type": "markdown",
      "source": [
        "## Prepare dataset"
      ],
      "metadata": {
        "id": "lXGdXtqkyVzA"
      }
    },
    {
      "cell_type": "code",
      "source": [
        "X_data = data['Review'].to_numpy().reshape(-1)\n",
        "y_data = data['Sentiment'].to_numpy().reshape(-1)"
      ],
      "metadata": {
        "id": "_qSpAh92f7kV"
      },
      "execution_count": null,
      "outputs": []
    },
    {
      "cell_type": "markdown",
      "source": [
        "## Dataset analysis\n",
        "### As you can see in the following plot, the samples are not balanced. This could cause problems during the training but, since they are not highly unbalanced, I have left it as it is.\n",
        "\n",
        "### In other cases, such as fraud detecting where the positive classes are very few compared to the negative ones, we must apply techniques to balance it. For example, we could undersample the biggest category"
      ],
      "metadata": {
        "id": "I3qcaJ_yyryd"
      }
    },
    {
      "cell_type": "code",
      "source": [
        "sentiments = data['Sentiment'].values.reshape(-1)\n",
        "\n",
        "counter_sentiments = Counter(sentiments)\n",
        "sentiment_names = counter_sentiments.keys()\n",
        "sentiment_values = counter_sentiments.values()\n",
        "\n",
        "y_pos = np.arange(len(sentiment_names))\n",
        "\n",
        "plt.figure(1, figsize=(10, 5))\n",
        "plt.bar(y_pos, sentiment_values, align='center', alpha=0.5)\n",
        "plt.xticks(y_pos, sentiment_names)\n",
        "plt.ylabel('Number of texts')\n",
        "plt.title('Distribution of texts per category')\n",
        "plt.gca().yaxis.grid(True)\n",
        "plt.show()\n",
        "\n",
        "print(counter_sentiments)"
      ],
      "metadata": {
        "id": "Ozs5pMIGgXiV"
      },
      "execution_count": null,
      "outputs": []
    },
    {
      "cell_type": "code",
      "source": [
        "def calculate_stats(df, split_char=' '):\n",
        "    sentiments = df['Sentiment'].unique()\n",
        "    \n",
        "    all_lengths = []\n",
        "    per_sentiment = {\n",
        "        'lengths': {c:[] for c in sentiments},\n",
        "        'mean': {c:0 for c in sentiments},\n",
        "        'stdev': {c:0 for c in sentiments}\n",
        "    }\n",
        "\n",
        "    for index, row in df.iterrows():\n",
        "        review = row['Review']\n",
        "        review = re.sub(r\"\\s+\", ' ', review) # Normalize\n",
        "        review = review.split(split_char)\n",
        "        l = len(review)\n",
        "        \n",
        "        sentiment = row['Sentiment']\n",
        "        \n",
        "        all_lengths.append(l)\n",
        "        per_sentiment['lengths'][sentiment].append(l)\n",
        "    \n",
        "    for c in sentiments:\n",
        "        per_sentiment['mean'][c] = statistics.mean(per_sentiment['lengths'][c])\n",
        "        per_sentiment['stdev'][c] = statistics.stdev(per_sentiment['lengths'][c])\n",
        "    \n",
        "    global_stats = {\n",
        "        'mean': statistics.mean(all_lengths),\n",
        "        'stdev': statistics.stdev(all_lengths),\n",
        "        'lengths': all_lengths\n",
        "    }\n",
        "    \n",
        "    return {\n",
        "        'global': global_stats,\n",
        "        'per_sentiment': pd.DataFrame(per_sentiment)\n",
        "    }\n",
        "\n",
        "\n",
        "def display_lengths_histograms(df_stats, n_cols=3):\n",
        "    sentiments = data['Sentiment'].unique()\n",
        "    n_rows = math.ceil(len(sentiments) / n_cols)\n",
        "    \n",
        "    plt.figure(figsize=(15, 8))\n",
        "    plt.suptitle('Distribution of lengths')\n",
        "    \n",
        "    # Subplot of all lengths\n",
        "    plt.subplot(n_rows, n_cols, 1)\n",
        "    plt.title('All sentiment')\n",
        "    lengths = df_stats['global']['lengths']\n",
        "    plt.hist(lengths, color='r')\n",
        "\n",
        "    # Subplot of each sentiment\n",
        "    index_subplot = 2\n",
        "    for c in sentiments:\n",
        "        plt.subplot(n_rows, n_cols, index_subplot)\n",
        "        plt.title('Sentiment: %s' % c)\n",
        "        \n",
        "        lengths = df_stats['per_sentiment']['lengths'][c]\n",
        "        plt.hist(lengths, color='b')\n",
        "\n",
        "        index_subplot += 1\n",
        "\n",
        "    plt.show()"
      ],
      "metadata": {
        "id": "H3rk-AXOg7nO"
      },
      "execution_count": null,
      "outputs": []
    },
    {
      "cell_type": "markdown",
      "source": [
        "Please, note that the tokenization process may split words into several parts, so lengths could increase (or decrease too). This is only an orientative result."
      ],
      "metadata": {
        "id": "dvZLcQarzT4K"
      }
    },
    {
      "cell_type": "code",
      "source": [
        "df_stats = calculate_stats(data)\n",
        "df_stats['per_sentiment']"
      ],
      "metadata": {
        "id": "8YS6Cv8ziAN-"
      },
      "execution_count": null,
      "outputs": []
    },
    {
      "cell_type": "code",
      "source": [
        "display_lengths_histograms(df_stats)"
      ],
      "metadata": {
        "id": "YdZ9pKwBiJJq"
      },
      "execution_count": null,
      "outputs": []
    },
    {
      "cell_type": "code",
      "source": [
        "n_reviews = len(X_data)\n",
        "print('Reviews in dataset: %d' % n_reviews)\n",
        "\n",
        "sentiments = data['Sentiment'].unique()\n",
        "n_sentiments = len(sentiments)\n",
        "print('Number of sentiments: %d' % n_sentiments)\n",
        "\n",
        "print('Done!')"
      ],
      "metadata": {
        "id": "6JUjYQJfjPnX"
      },
      "execution_count": null,
      "outputs": []
    },
    {
      "cell_type": "markdown",
      "source": [
        "\n",
        "## Tokenize & encode\n",
        "I am going to import the RoBERTa model from HuggingFace. Note that I must import not only the model but also the tokenizer (since I must use the same vocabulary as the model was trained with).\n",
        "\n",
        "We should take into account that RoBERTa's input accepts up-to 512 tokens, thus we must truncate the tokenized texts. In my case, I truncate to 256 tokens, but you can put a higher value in the variable MAX_LEN."
      ],
      "metadata": {
        "id": "zF30OQjPzuh9"
      }
    },
    {
      "cell_type": "code",
      "source": [
        "def roberta_encode(reviews, tokenizer):\n",
        "    ct = len(reviews)\n",
        "    input_ids = np.ones((ct, MAX_LEN), dtype='int32')\n",
        "    attention_mask = np.zeros((ct, MAX_LEN), dtype='int32')\n",
        "    token_type_ids = np.zeros((ct, MAX_LEN), dtype='int32') # Not used in review classification\n",
        "\n",
        "    for k, review in enumerate(reviews):\n",
        "        # Tokenize\n",
        "        tok_review = tokenizer.tokenize(review)\n",
        "        \n",
        "        # Truncate and convert tokens to numerical IDs\n",
        "        enc_review = tokenizer.convert_tokens_to_ids(tok_review[:(MAX_LEN-2)])\n",
        "        \n",
        "        input_length = len(enc_review) + 2\n",
        "        input_length = input_length if input_length < MAX_LEN else MAX_LEN\n",
        "        \n",
        "        # Add tokens [CLS] and [SEP] at the beginning and the end\n",
        "        input_ids[k,:input_length] = np.asarray([0] + enc_review + [2], dtype='int32')\n",
        "        \n",
        "        # Set to 1s in the attention input\n",
        "        attention_mask[k,:input_length] = 1\n",
        "\n",
        "    return {\n",
        "        'input_word_ids': input_ids,\n",
        "        'input_mask': attention_mask,\n",
        "        'input_type_ids': token_type_ids\n",
        "    }"
      ],
      "metadata": {
        "id": "pvPKZZ0jjnRO"
      },
      "execution_count": null,
      "outputs": []
    },
    {
      "cell_type": "code",
      "source": [
        "# Import tokenizer from HuggingFace\n",
        "tokenizer = RobertaTokenizer.from_pretrained(MODEL_NAME)"
      ],
      "metadata": {
        "id": "xxku4Ia5k3zF"
      },
      "execution_count": null,
      "outputs": []
    },
    {
      "cell_type": "code",
      "source": [
        "xtrain = roberta_encode(X_train, tokenizer)\n",
        "xvalid = roberta_encode(X_valid, tokenizer)\n",
        "\n",
        "ytrain = np.asarray(Y_train, dtype='int32')\n",
        "yvalid = np.asarray(Y_valid, dtype='int32')"
      ],
      "metadata": {
        "id": "Mi8Myfjfk7Rk"
      },
      "execution_count": null,
      "outputs": []
    },
    {
      "cell_type": "markdown",
      "source": [
        "## Create RoBERTa model"
      ],
      "metadata": {
        "id": "-8UkC3480Cz7"
      }
    },
    {
      "cell_type": "code",
      "source": [
        "def build_model(n_sentiments):\n",
        "  input_word_ids = tf.keras.Input(shape=(MAX_LEN,), dtype=tf.int32, name='input_word_ids')\n",
        "  input_mask = tf.keras.Input(shape=(MAX_LEN,), dtype=tf.int32, name='input_mask')\n",
        "  input_type_ids = tf.keras.Input(shape=(MAX_LEN,), dtype=tf.int32, name='input_type_ids')\n",
        "\n",
        "  # Import RoBERTa model from HuggingFace\n",
        "  roberta_model = TFRobertaModel.from_pretrained(MODEL_NAME)\n",
        "  x = roberta_model(input_word_ids, attention_mask=input_mask, token_type_ids=input_type_ids)\n",
        "\n",
        "  # Huggingface transformers have multiple outputs, embeddings are the first one,\n",
        "  # so let's slice out the first position\n",
        "  x = x[0]\n",
        "\n",
        "  x = tf.keras.layers.Dropout(0.1)(x)\n",
        "  x = tf.keras.layers.Flatten()(x)\n",
        "  x = tf.keras.layers.Dense(256, activation='relu')(x)\n",
        "  x = tf.keras.layers.Dense(units=512, activation='relu')(x) # hidden layer \n",
        "  x = tf.keras.layers.Dense(units=256, activation='relu')(x) # hidden layer \n",
        "  x = tf.keras.layers.Dense(units=128, activation='relu')(x) # hidden layer \n",
        "  x = tf.keras.layers.Dense(units=64, activation='relu')(x)\n",
        "  x = tf.keras.layers.Dense(n_sentiments, activation='softmax')(x)\n",
        "\n",
        "  model = tf.keras.Model(inputs=[input_word_ids, input_mask, input_type_ids], outputs=x)\n",
        "  model.compile(\n",
        "            optimizer=tf.keras.optimizers.Adam(lr=1e-5),\n",
        "            loss='sparse_categorical_crossentropy',\n",
        "            metrics=['accuracy'])\n",
        "\n",
        "  return model"
      ],
      "metadata": {
        "id": "3IlogNGEk_jU"
      },
      "execution_count": null,
      "outputs": []
    },
    {
      "cell_type": "code",
      "source": [
        "r_model = build_model(n_sentiments)\n",
        "r_model.summary()"
      ],
      "metadata": {
        "id": "myYe4amTmrIK"
      },
      "execution_count": null,
      "outputs": []
    },
    {
      "cell_type": "code",
      "source": [
        "r_model.layers[3].trainable = False"
      ],
      "metadata": {
        "id": "Oi2ZycJxSo5O"
      },
      "execution_count": null,
      "outputs": []
    },
    {
      "cell_type": "markdown",
      "source": [
        "## Train model"
      ],
      "metadata": {
        "id": "caAa_3PS0h5Y"
      }
    },
    {
      "cell_type": "code",
      "source": [
        "roberta_history = r_model.fit(xtrain,\n",
        "                        ytrain,\n",
        "                        epochs=EPOCHS,\n",
        "                        batch_size=BATCH_SIZE,\n",
        "                        verbose=1,\n",
        "                        validation_data=(xvalid, yvalid))"
      ],
      "metadata": {
        "id": "UqIQsMW3mxDn"
      },
      "execution_count": null,
      "outputs": []
    },
    {
      "cell_type": "code",
      "source": [
        "# This plot will look much better if we train models with more epochs, but anyway here is\n",
        "plt.figure(figsize=(10, 10))\n",
        "plt.title('Accuracy')\n",
        "\n",
        "xaxis = np.arange(len(roberta_history.history['accuracy']))\n",
        "plt.plot(xaxis, roberta_history.history['accuracy'], label='Train set')\n",
        "plt.plot(xaxis, roberta_history.history['val_accuracy'], label='Validation set')\n",
        "plt.legend()"
      ],
      "metadata": {
        "id": "EYyHX05Km_kE"
      },
      "execution_count": null,
      "outputs": []
    },
    {
      "cell_type": "markdown",
      "source": [
        "## Evaluation\n",
        " In a confusion matrix, we can see how many aentiments are classified c"
      ],
      "metadata": {
        "id": "1rIBzWSA0wgn"
      }
    },
    {
      "cell_type": "code",
      "source": [
        "def plot_confusion_matrix(X_test, y_test, model):\n",
        "    y_pred = model.predict(X_test)\n",
        "    y_pred = [np.argmax(i) for i in model.predict(X_test)]\n",
        "\n",
        "    con_mat = tf.math.confusion_matrix(labels=y_test, predictions=y_pred).numpy()\n",
        "\n",
        "    con_mat_norm = np.around(con_mat.astype('float') / con_mat.sum(axis=1)[:, np.newaxis], decimals=2)\n",
        "    label_names = list(range(len(con_mat_norm)))\n",
        "\n",
        "    con_mat_df = pd.DataFrame(con_mat_norm,\n",
        "                              index=label_names, \n",
        "                              columns=label_names)\n",
        "\n",
        "    figure = plt.figure(figsize=(10, 10))\n",
        "    sns.heatmap(con_mat_df, cmap=plt.cm.Blues, annot=True)\n",
        "    plt.ylabel('True label')\n",
        "    plt.xlabel('Predicted label')"
      ],
      "metadata": {
        "id": "1jX2xmrjnG6j"
      },
      "execution_count": null,
      "outputs": []
    },
    {
      "cell_type": "code",
      "source": [
        "scores = model.evaluate(X_test, y_test, verbose=0)\n",
        "print(\"Accuracy: %.2f%%\" % (scores[1] * 100))"
      ],
      "metadata": {
        "id": "qUIlxv-lnVoH"
      },
      "execution_count": null,
      "outputs": []
    },
    {
      "cell_type": "code",
      "source": [
        "plot_confusion_matrix(X_test, y_test, model)"
      ],
      "metadata": {
        "id": "vr26bI6anYv2"
      },
      "execution_count": null,
      "outputs": []
    },
    {
      "cell_type": "markdown",
      "source": [
        "# RNN"
      ],
      "metadata": {
        "id": "ic6doukbHIRL"
      }
    },
    {
      "cell_type": "code",
      "source": [
        "# Load Dependencies\n",
        "\n",
        "from keras.models import Sequential\n",
        "# from keras.layers.core import Activation\n",
        "from keras.layers import Dense, Dropout, Embedding, SimpleRNN,LSTM\n",
        "from keras.preprocessing.text import Tokenizer\n",
        "from tensorflow.keras.preprocessing.sequence import pad_sequences"
      ],
      "metadata": {
        "id": "On8Siu4fHMo9"
      },
      "execution_count": null,
      "outputs": []
    },
    {
      "cell_type": "code",
      "source": [
        "tokenizer = Tokenizer(num_words=5000)\n",
        "\n",
        "tokenizer.fit_on_texts(X_train)\n",
        "\n",
        "X_train = tokenizer.texts_to_sequences(X_train)\n",
        "X_test = tokenizer.texts_to_sequences(X_test)\n",
        "X_valid = tokenizer.texts_to_sequences(X_valid)\n",
        "\n",
        "vocab_size=len(tokenizer.word_index)\n",
        "vocab_size"
      ],
      "metadata": {
        "id": "eVULbbBbHZAj"
      },
      "execution_count": null,
      "outputs": []
    },
    {
      "cell_type": "code",
      "source": [
        "max_words = 250\n",
        "\n",
        "X_train = pad_sequences(X_train,padding='post' ,maxlen=max_words)\n",
        "X_test  =  pad_sequences(X_test, padding='post' ,maxlen=max_words)\n",
        "X_valid =  pad_sequences(X_valid, padding='post' ,maxlen=max_words)"
      ],
      "metadata": {
        "id": "mI9OBPdhHc5z"
      },
      "execution_count": null,
      "outputs": []
    },
    {
      "cell_type": "code",
      "source": [
        "# RNN_model = Sequential()\n",
        "# # Add Embedding layer\n",
        "# RNN_model.add(Embedding(max_features, embedding_size, input_length=max_length))\n",
        "# RNN_model.add(Dropout(dropout_rate))\n",
        "# # Add Simple RNN layer\n",
        "# RNN_model.add(SimpleRNN(units=100 , activation=\"tanh\" , use_bias=False , bias_initializer=\"zeros\" , dropout=0.0 , go_backwards=False))\n",
        "# # Add Dense Hidden Layer\n",
        "# RNN_model.add(Dense(hidden_layer_size, activation='relu'))\n",
        "# RNN_model.add(Dropout(dropout_rate))\n",
        "# # Output Layer \n",
        "# RNN_model.add(Dense(no_classes, activation='sigmoid'))\n",
        "\n",
        "\n",
        "# RNN_model = Sequential()\n",
        "# # Add Embedding layer\n",
        "# RNN_model.add(Embedding(max_features, embedding_size, input_length=max_length))\n",
        "# RNN_model.add(Dropout(dropout_rate))\n",
        "# # Add Simple RNN layer\n",
        "# RNN_model.add(SimpleRNN(input_dim=1, output_dim=25, batch_input_shape=(1, 3)))\n",
        "# # Add Dense Hidden Layer\n",
        "# RNN_model.add(Dense(hidden_layer_size, activation='relu'))\n",
        "# RNN_model.add(Dropout(dropout_rate))\n",
        "# # Output Layer \n",
        "# RNN_model.add(Dense(no_classes, activation='sigmoid'))\n",
        "\n",
        "\n",
        "\n",
        "# # RNN_model = Sequential()\n",
        "# # RNN_model.add(Embedding(max_features, embedding_size,input_length=max_length) )\n",
        "# # RNN_model.add(LSTM(128,return_sequences=True))\n",
        "# # RNN_model.add(LSTM(32))\n",
        "\n",
        "# # RNN_model.add(Dense(1, activation='sigmoid'))\n",
        "\n",
        "embedding_size=32\n",
        "RNN_model=Sequential()\n",
        "RNN_model.add(Embedding(vocab_size, embedding_size, input_length=max_words))\n",
        "RNN_model.add(LSTM(100))\n",
        "RNN_model.add(Dense(1, activation='sigmoid'))"
      ],
      "metadata": {
        "id": "0w_Yiz2ib_od"
      },
      "execution_count": null,
      "outputs": []
    },
    {
      "cell_type": "code",
      "source": [
        "RNN_model.summary()"
      ],
      "metadata": {
        "id": "IPXaJxy_Hglf"
      },
      "execution_count": null,
      "outputs": []
    },
    {
      "cell_type": "code",
      "source": [
        "RNN_model.compile(optimizer='adam', loss='binary_crossentropy', metrics=['acc'])"
      ],
      "metadata": {
        "id": "PuZK1q4H9cNw"
      },
      "execution_count": null,
      "outputs": []
    },
    {
      "cell_type": "code",
      "source": [
        "batch_size = 64\n",
        "num_epochs = 10\n",
        "\n",
        "history=RNN_model.fit(X_train, Y_train, batch_size=batch_size, verbose=1, epochs=num_epochs, validation_data=(X_valid, Y_valid))"
      ],
      "metadata": {
        "id": "pv-rfBMYHvQs"
      },
      "execution_count": null,
      "outputs": []
    },
    {
      "cell_type": "code",
      "source": [
        "# graph to show (Loss)\n",
        "plt.title('Loss')\n",
        "plt.plot(history.history['loss'], label='loss')\n",
        "plt.plot(history.history['val_loss'], label='val_loss')\n",
        "plt.xlabel('Epoch')\n",
        "plt.xlabel('loss')\n",
        "plt.legend(loc='upper right')"
      ],
      "metadata": {
        "id": "ynhegyy7G5UL"
      },
      "execution_count": null,
      "outputs": []
    },
    {
      "cell_type": "code",
      "source": [
        "# graph to show (Accuracy)\n",
        "plt.subplot(212)\n",
        "plt.title('Accuracy')\n",
        "plt.plot(history.history['accuracy'], label='train')\n",
        "plt.plot(history.history['val_accuracy'], label='val')\n",
        "plt.legend(loc='lower right')\n",
        "plt.show()"
      ],
      "metadata": {
        "id": "wr2PJ1RbG5cV"
      },
      "execution_count": null,
      "outputs": []
    },
    {
      "cell_type": "code",
      "source": [
        "ModelLoss, ModelAccuracy = RNN_model.evaluate(X_test, Y_test)\n",
        "print('Test Loss is {}'.format(ModelLoss))\n",
        "print('Test Accuracy is {}'.format(ModelAccuracy))"
      ],
      "metadata": {
        "id": "3E_dfMnaHAVY"
      },
      "execution_count": null,
      "outputs": []
    },
    {
      "cell_type": "code",
      "source": [
        "pred=RNN_model.predict(X_test)"
      ],
      "metadata": {
        "id": "jNM1nUzKHRAw"
      },
      "execution_count": null,
      "outputs": []
    },
    {
      "cell_type": "code",
      "source": [
        "pred=[int(np.round(elements)) for elements in pred]"
      ],
      "metadata": {
        "id": "R316gQYjNtcs"
      },
      "execution_count": null,
      "outputs": []
    },
    {
      "cell_type": "code",
      "source": [
        "from sklearn.metrics import confusion_matrix,ConfusionMatrixDisplay,classification_report,f1_score,accuracy_score,precision_score,recall_score,plot_confusion_matrix"
      ],
      "metadata": {
        "id": "Q5EQ7LwDO5dU"
      },
      "execution_count": null,
      "outputs": []
    },
    {
      "cell_type": "code",
      "source": [
        "# Accuracy: Percentage of correct predictions\n",
        "# Precision: Correct positive predictions relative to total positive predictions\n",
        "# Recall: Correct positive predictions relative to total actual positives\n",
        "fscore=f1_score(Y_test, pred, average='macro')\n",
        "accuracy=accuracy_score(Y_test, pred)\n",
        "precision=(precision_score(Y_test, pred, average='macro'))\n",
        "recall=recall_score(Y_test, pred, average='macro')\n",
        "print(f' Accuracy = {accuracy}\\nPrecision = {precision}\\n  Recall  = {recall}\\n  fscore  = {fscore}')"
      ],
      "metadata": {
        "id": "9uwHCgoCPEvq"
      },
      "execution_count": null,
      "outputs": []
    },
    {
      "cell_type": "code",
      "source": [
        "CLASSES=['negative','positive']\n",
        "cr=classification_report(Y_test, pred ,target_names=CLASSES)\n",
        "print(cr)"
      ],
      "metadata": {
        "id": "18UXOJnqPTZ7"
      },
      "execution_count": null,
      "outputs": []
    },
    {
      "cell_type": "code",
      "source": [
        "cm=confusion_matrix(y_true=Y_test, y_pred=pred)\n",
        "print(cm)"
      ],
      "metadata": {
        "id": "Hf_einZ0Qwoa"
      },
      "execution_count": null,
      "outputs": []
    },
    {
      "cell_type": "code",
      "source": [
        "np.random.seed(0)\n",
        "\n",
        "labels = [f'class_{i+1}' for i in range(104)]\n",
        "\n",
        "fig, ax = plt.subplots(figsize=(10, 10))\n",
        "ConfusionMatrixDisplay.from_predictions(\n",
        "    Y_test, pred, display_labels=labels, xticks_rotation=\"vertical\",\n",
        "    ax=ax, colorbar=False, cmap=plt.cm.Blues)"
      ],
      "metadata": {
        "id": "QvHaj3RuRKA9"
      },
      "execution_count": null,
      "outputs": []
    },
    {
      "cell_type": "code",
      "source": [
        "import seaborn as sns\n",
        "index = CLASSES \n",
        "columns = CLASSES \n",
        "cm_df = pd.DataFrame(cm,columns,index)                      \n",
        "plt.figure(figsize=(10,10))  \n",
        "sns.heatmap(cm_df, annot=True)"
      ],
      "metadata": {
        "id": "LzxddgEvRF1o"
      },
      "execution_count": null,
      "outputs": []
    },
    {
      "cell_type": "code",
      "source": [
        "y_actual = pd.Series(Y_test, name='Actual')\n",
        "y_predicted = pd.Series(pred, name='Predicted')\n",
        "h=(pd.crosstab(y_actual, y_predicted,rownames=['Actual'], colnames=['Predicted']))\n",
        "h"
      ],
      "metadata": {
        "id": "oL6gmLJXRfns"
      },
      "execution_count": null,
      "outputs": []
    }
  ],
  "metadata": {
    "accelerator": "GPU",
    "colab": {
      "collapsed_sections": [
        "jBWm3y3720hZ",
        "pu4bRAHOqDnG",
        "5pqIFkRDp1Ai",
        "cjcvKaertA0M",
        "ic6doukbHIRL"
      ],
      "provenance": []
    },
    "gpuClass": "standard",
    "kernelspec": {
      "display_name": "Python 3",
      "name": "python3"
    },
    "language_info": {
      "name": "python"
    }
  },
  "nbformat": 4,
  "nbformat_minor": 0
}